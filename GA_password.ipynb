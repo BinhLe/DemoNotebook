{
 "cells": [
  {
   "cell_type": "code",
   "execution_count": 1,
   "metadata": {
    "ExecuteTime": {
     "end_time": "2017-10-30T13:00:35.332106Z",
     "start_time": "2017-10-30T13:00:33.801440Z"
    },
    "collapsed": true,
    "scrolled": true
   },
   "outputs": [],
   "source": [
    "# -*- coding: utf-8 -*-\n",
    "\"\"\"\n",
    "Created on Sat Oct 28 16:30:44 2017\n",
    "\n",
    "@author: Hoang Lam Le - Edit code from Code project\n",
    "\"\"\"\n",
    "from __future__ import division, print_function, unicode_literals\n",
    "import numpy as np \n",
    "import matplotlib.pyplot as plt\n",
    "import random\n",
    "import datetime\n",
    "\n",
    "#----------------Init first gene ----------------------------------------------\n",
    "#------------------------------------------------------------------------------\n",
    "def generate_parent(length):\n",
    "    genes = []\n",
    "    while len(genes) < length:\n",
    "        sampleSize = min(length - len(genes), len(geneSet))\n",
    "        genes.extend(random.sample(geneSet, sampleSize))\n",
    "    return ''.join(genes)\n",
    "\n",
    "#---------------Count number of similar character between guess and actual string----------------------\n",
    "#Fitness value is defined as the number of matching letters\n",
    "#----------------------------------------------------------------------------------------------------\n",
    "def get_fitness(guess):\n",
    "    return sum(1 for expected, actual in zip(target, guess) if expected == actual)\n",
    "#---------------------Generate new child from parent-------------------------------------------------\n",
    "#----------------------------------------------------------------------------- ---------------------- \n",
    "def mutate(parent):\n",
    "    index = random.randrange(0, len(parent))\n",
    "    childGenes = list(parent)\n",
    "    newGene, alternate = random.sample(geneSet, 2) #2 means assign 2 letter to two variables\n",
    "    #print(\"This is new gene\", newGene)\n",
    "    #print(\"This is alternate\", alternate)\n",
    "    childGenes[index] = alternate if newGene == childGenes[index] else newGene\n",
    "    #dau forward slash nay nghia la gi vay\n",
    "    return ''.join(childGenes)# convert from seperated letter into one string\n",
    "\n",
    "#---------------Show on screen the time running for each iteration of generating a new child----------------------\n",
    "#-------------------------------------------------------------------------------------------------------------------------\n",
    "def display(guess):\n",
    "    timeDiff = datetime.datetime.now() - startTime\n",
    "    fitness = get_fitness(guess)\n",
    "    print(\"{0}\\t{1}\\t{2}\".format(guess, fitness, str(timeDiff)))\n",
    "\n"
   ]
  },
  {
   "cell_type": "code",
   "execution_count": 7,
   "metadata": {
    "ExecuteTime": {
     "end_time": "2017-10-30T13:12:44.888339Z",
     "start_time": "2017-10-30T13:12:44.824007Z"
    }
   },
   "outputs": [
    {
     "name": "stdout",
     "output_type": "stream",
     "text": [
      "BsYtEp!.inG\t0\t0:00:00.000207\n",
      "Guess result, Num of same letters, Time diff\n",
      "BsYtEpW.inG\t1\t0:00:00.001346\n",
      "HsYtEpW.inG\t2\t0:00:00.001940\n",
      "HsYtEpWoinG\t3\t0:00:00.003461\n",
      "HsYlEpWoinG\t4\t0:00:00.003687\n",
      "HsYlEpWoilG\t5\t0:00:00.007418\n",
      "HsllEpWoilG\t6\t0:00:00.008346\n",
      "HellEpWoilG\t7\t0:00:00.012355\n",
      "HellEpWoild\t8\t0:00:00.015121\n",
      "HellopWoild\t9\t0:00:00.021808\n",
      "Hello Woild\t10\t0:00:00.025560\n",
      "Hello World\t11\t0:00:00.039680\n",
      "=======RESULT:===========\n",
      "Hello World\n"
     ]
    }
   ],
   "source": [
    "def GA_password_cracking(genSet, target):\n",
    "    #----------------declare variables---------------------------------------------\n",
    "    #------------------------------------------------------------------------------\n",
    "    geneSet = \" abcdefghijklmnopqrstuvwxyzABCDEFGHIJKLMNOPQRSTUVWXYZ!.\"\n",
    "    target = \"Hello World\"\n",
    "    #---------------Main function ----------------------\n",
    "    #-----------------------------------------------------------------------------------------------------------\n",
    "    random.seed()\n",
    "    startTime = datetime.datetime.now()\n",
    "    bestParent = generate_parent(len(target)) #redom string\n",
    "    bestFitness = get_fitness(bestParent) # HOW many letters currently are similar between guess and target\n",
    "    #print(\"This is bestParent\", bestParent)\n",
    "    #print(\"This is bestFitness\", bestFitness)\n",
    "    display(bestParent)\n",
    "    count = 0\n",
    "    print(\"Guess result, Num of same letters, Time diff\")\n",
    "    while True:\n",
    "        child = mutate(bestParent) # evolved string by replacing a letter\n",
    "        #Which line of code that guarantees a replacement does not happen at the correct position?\n",
    "    #     print(\"{0}\\t{1}\".format(child, bestParent))\n",
    "        childFitness = get_fitness(child)\n",
    "\n",
    "        if bestFitness >= childFitness:#only accept child which has more number of similar letters\n",
    "    #         print(\"{0}\\t{1}\".format(bestFitness, childFitness))\n",
    "            count +=1\n",
    "            continue\n",
    "            #childfitness (numberof similar letter) is the number of similar letter later\n",
    "            #the latter, the better. If not, continue to generate new child, until the number of\n",
    "            #of similar letter is greater than it was\n",
    "        display(child)\n",
    "        if childFitness >= len(bestParent): #end of loop\n",
    "            print(\"=======RESULT:===========\")\n",
    "            print(child)\n",
    "            break\n",
    "        bestFitness = childFitness\n",
    "        bestParent = child\n",
    "    #     print (\"Count: \", count) # number of gerneralized child for an iteration. In data a-zA-Z, count sometimes >500 (debug data: unfortanute case)\n",
    "        #in some lucky curcumstance: count is 5 or 10 (rare)\n",
    "        count = 0\n",
    "\n",
    "    #For each evolution, child may repeat the same result, that is why we need this condition if bestFitness >= childFitness.\n",
    "    #From debug result, child may similar to previous child, some iteration need 5000 mutation to generate a new suitable child\n",
    "    #This algorithm need to impoved at the step of child generation.\n",
    "    #if generate set is too big, 1000 letters, it will consume much time"
   ]
  },
  {
   "cell_type": "code",
   "execution_count": null,
   "metadata": {
    "collapsed": true
   },
   "outputs": [],
   "source": []
  }
 ],
 "metadata": {
  "hide_input": false,
  "kernelspec": {
   "display_name": "Python [default]",
   "language": "python",
   "name": "python3"
  },
  "language_info": {
   "codemirror_mode": {
    "name": "ipython",
    "version": 3
   },
   "file_extension": ".py",
   "mimetype": "text/x-python",
   "name": "python",
   "nbconvert_exporter": "python",
   "pygments_lexer": "ipython3",
   "version": "3.5.2"
  },
  "toc": {
   "colors": {
    "hover_highlight": "#DAA520",
    "running_highlight": "#FF0000",
    "selected_highlight": "#FFD700"
   },
   "moveMenuLeft": true,
   "nav_menu": {
    "height": "4px",
    "width": "253px"
   },
   "navigate_menu": true,
   "number_sections": true,
   "sideBar": true,
   "threshold": 4,
   "toc_cell": false,
   "toc_section_display": "block",
   "toc_window_display": true,
   "widenNotebook": false
  },
  "varInspector": {
   "cols": {
    "lenName": 16,
    "lenType": 16,
    "lenVar": 40
   },
   "kernels_config": {
    "python": {
     "delete_cmd_postfix": "",
     "delete_cmd_prefix": "del ",
     "library": "var_list.py",
     "varRefreshCmd": "print(var_dic_list())"
    },
    "r": {
     "delete_cmd_postfix": ") ",
     "delete_cmd_prefix": "rm(",
     "library": "var_list.r",
     "varRefreshCmd": "cat(var_dic_list()) "
    }
   },
   "types_to_exclude": [
    "module",
    "function",
    "builtin_function_or_method",
    "instance",
    "_Feature"
   ],
   "window_display": false
  }
 },
 "nbformat": 4,
 "nbformat_minor": 2
}
