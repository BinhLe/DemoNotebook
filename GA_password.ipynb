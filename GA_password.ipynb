{
 "cells": [
  {
   "cell_type": "code",
   "execution_count": 1,
   "metadata": {
    "ExecuteTime": {
     "end_time": "2018-01-31T11:54:40.100306Z",
     "start_time": "2018-01-31T11:54:38.918170Z"
    },
    "scrolled": true
   },
   "outputs": [],
   "source": [
    "# -*- coding: utf-8 -*-\n",
    "\"\"\"\n",
    "Created on Sat Oct 28 16:30:44 2017\n",
    "\n",
    "@author: Hoang Lam Le - Edit code from Code project\n",
    "\"\"\"\n",
    "from __future__ import division, print_function, unicode_literals\n",
    "import numpy as np \n",
    "import matplotlib.pyplot as plt\n",
    "import random\n",
    "import datetime\n",
    "\n",
    "#----------------Init first gene ----------------------------------------------\n",
    "#------------------------------------------------------------------------------\n",
    "def generate_parent(length):\n",
    "    genes = []\n",
    "    while len(genes) < length:\n",
    "        sampleSize = min(length - len(genes), len(geneSet))\n",
    "        genes.extend(random.sample(geneSet, sampleSize))\n",
    "    return ''.join(genes)\n",
    "\n",
    "#---------------Count number of similar character between guess and actual string----------------------\n",
    "#Fitness value is defined as the number of matching letters\n",
    "#----------------------------------------------------------------------------------------------------\n",
    "def get_fitness(guess):\n",
    "    return sum(1 for expected, actual in zip(target, guess) if expected == actual)\n",
    "#---------------------Generate new child from parent-------------------------------------------------\n",
    "#----------------------------------------------------------------------------- ---------------------- \n",
    "def mutate(parent):\n",
    "    index = random.randrange(0, len(parent))\n",
    "    childGenes = list(parent)\n",
    "    newGene, alternate = random.sample(geneSet, 2) #2 means assign 2 letter to two variables\n",
    "    #print(\"This is new gene\", newGene)\n",
    "    #print(\"This is alternate\", alternate)\n",
    "    childGenes[index] = alternate if newGene == childGenes[index] else newGene\n",
    "    #dau forward slash nay nghia la gi vay\n",
    "    return ''.join(childGenes)# convert from seperated letter into one string\n",
    "\n",
    "#---------------Show on screen the time running for each iteration of generating a new child----------------------\n",
    "#-------------------------------------------------------------------------------------------------------------------------\n",
    "def display(guess):\n",
    "    timeDiff = datetime.datetime.now() - startTime\n",
    "    fitness = get_fitness(guess)\n",
    "    print(\"{0}\\t{1}\\t{2}\".format(guess, fitness, str(timeDiff)))\n",
    "\n"
   ]
  },
  {
   "cell_type": "code",
   "execution_count": 3,
   "metadata": {
    "ExecuteTime": {
     "end_time": "2018-01-31T11:54:51.321210Z",
     "start_time": "2018-01-31T11:54:51.292991Z"
    }
   },
   "outputs": [],
   "source": [
    "def GA_password_cracking(geneSet, target):\n",
    "    #----------------declare variables---------------------------------------------\n",
    "    #------------------------------------------------------------------------------\n",
    "#     geneSet = \" abcdefghijklmnopqrstuvwxyzABCDEFGHIJKLMNOPQRSTUVWXYZ!.\"\n",
    "#     target = \"Hello World\"\n",
    "    #---------------Main function ----------------------\n",
    "    #-----------------------------------------------------------------------------------------------------------\n",
    "    random.seed()\n",
    "    startTime = datetime.datetime.now()\n",
    "    bestParent = generate_parent(len(target)) #redom string\n",
    "    bestFitness = get_fitness(bestParent) # HOW many letters currently are similar between guess and target\n",
    "    #print(\"This is bestParent\", bestParent)\n",
    "    #print(\"This is bestFitness\", bestFitness)\n",
    "    display(bestParent)\n",
    "    count = 0\n",
    "    print(\"Guess result, Num of same letters, Time diff\")\n",
    "    while True:\n",
    "        child = mutate(bestParent) # evolved string by replacing a letter\n",
    "        #Which line of code that guarantees a replacement does not happen at the correct position?\n",
    "    #     print(\"{0}\\t{1}\".format(child, bestParent))\n",
    "        childFitness = get_fitness(child)\n",
    "\n",
    "        if bestFitness >= childFitness:#only accept child which has more number of similar letters\n",
    "    #         print(\"{0}\\t{1}\".format(bestFitness, childFitness))\n",
    "            count +=1\n",
    "            continue\n",
    "            #childfitness (numberof similar letter) is the number of similar letter later\n",
    "            #the latter, the better. If not, continue to generate new child, until the number of\n",
    "            #of similar letter is greater than it was\n",
    "        display(child)\n",
    "        if childFitness >= len(bestParent): #end of loop\n",
    "            print(\"=======RESULT:===========\")\n",
    "            print(child)\n",
    "            break\n",
    "        bestFitness = childFitness\n",
    "        bestParent = child\n",
    "    #     print (\"Count: \", count) # number of gerneralized child for an iteration. In data a-zA-Z, count sometimes >500 (debug data: unfortanute case)\n",
    "        #in some lucky curcumstance: count is 5 or 10 (rare)\n",
    "        count = 0\n",
    "\n",
    "    #For each evolution, child may repeat the same result, that is why we need this condition if bestFitness >= childFitness.\n",
    "    #From debug result, child may similar to previous child, some iteration need 5000 mutation to generate a new suitable child\n",
    "    #This algorithm need to impoved at the step of child generation.\n",
    "    #if generate set is too big, 1000 letters, it will consume much time"
   ]
  },
  {
   "cell_type": "code",
   "execution_count": 4,
   "metadata": {
    "ExecuteTime": {
     "end_time": "2018-01-31T11:54:51.822295Z",
     "start_time": "2018-01-31T11:54:51.812269Z"
    }
   },
   "outputs": [
    {
     "ename": "NameError",
     "evalue": "name 'startTime' is not defined",
     "output_type": "error",
     "traceback": [
      "\u001b[1;31m---------------------------------------------------------------------------\u001b[0m",
      "\u001b[1;31mNameError\u001b[0m                                 Traceback (most recent call last)",
      "\u001b[1;32m<ipython-input-4-caa51e98a9c5>\u001b[0m in \u001b[0;36m<module>\u001b[1;34m()\u001b[0m\n\u001b[0;32m      1\u001b[0m \u001b[0mgeneSet\u001b[0m \u001b[1;33m=\u001b[0m \u001b[1;34m\" abcdefghijklmnopqrstuvwxyzABCDEFGHIJKLMNOPQRSTUVWXYZ!.\"\u001b[0m\u001b[1;33m\u001b[0m\u001b[0m\n\u001b[0;32m      2\u001b[0m \u001b[0mtarget\u001b[0m \u001b[1;33m=\u001b[0m \u001b[1;34m\"Hello World\"\u001b[0m\u001b[1;33m\u001b[0m\u001b[0m\n\u001b[1;32m----> 3\u001b[1;33m \u001b[0mGA_password_cracking\u001b[0m\u001b[1;33m(\u001b[0m\u001b[0mgeneSet\u001b[0m\u001b[1;33m,\u001b[0m \u001b[0mtarget\u001b[0m\u001b[1;33m)\u001b[0m\u001b[1;33m\u001b[0m\u001b[0m\n\u001b[0m",
      "\u001b[1;32m<ipython-input-3-c87ce81086c1>\u001b[0m in \u001b[0;36mGA_password_cracking\u001b[1;34m(geneSet, target)\u001b[0m\n\u001b[0;32m     12\u001b[0m     \u001b[1;31m#print(\"This is bestParent\", bestParent)\u001b[0m\u001b[1;33m\u001b[0m\u001b[1;33m\u001b[0m\u001b[0m\n\u001b[0;32m     13\u001b[0m     \u001b[1;31m#print(\"This is bestFitness\", bestFitness)\u001b[0m\u001b[1;33m\u001b[0m\u001b[1;33m\u001b[0m\u001b[0m\n\u001b[1;32m---> 14\u001b[1;33m     \u001b[0mdisplay\u001b[0m\u001b[1;33m(\u001b[0m\u001b[0mbestParent\u001b[0m\u001b[1;33m)\u001b[0m\u001b[1;33m\u001b[0m\u001b[0m\n\u001b[0m\u001b[0;32m     15\u001b[0m     \u001b[0mcount\u001b[0m \u001b[1;33m=\u001b[0m \u001b[1;36m0\u001b[0m\u001b[1;33m\u001b[0m\u001b[0m\n\u001b[0;32m     16\u001b[0m     \u001b[0mprint\u001b[0m\u001b[1;33m(\u001b[0m\u001b[1;34m\"Guess result, Num of same letters, Time diff\"\u001b[0m\u001b[1;33m)\u001b[0m\u001b[1;33m\u001b[0m\u001b[0m\n",
      "\u001b[1;32m<ipython-input-1-95ea0409d83f>\u001b[0m in \u001b[0;36mdisplay\u001b[1;34m(guess)\u001b[0m\n\u001b[0;32m     40\u001b[0m \u001b[1;31m#-------------------------------------------------------------------------------------------------------------------------\u001b[0m\u001b[1;33m\u001b[0m\u001b[1;33m\u001b[0m\u001b[0m\n\u001b[0;32m     41\u001b[0m \u001b[1;32mdef\u001b[0m \u001b[0mdisplay\u001b[0m\u001b[1;33m(\u001b[0m\u001b[0mguess\u001b[0m\u001b[1;33m)\u001b[0m\u001b[1;33m:\u001b[0m\u001b[1;33m\u001b[0m\u001b[0m\n\u001b[1;32m---> 42\u001b[1;33m     \u001b[0mtimeDiff\u001b[0m \u001b[1;33m=\u001b[0m \u001b[0mdatetime\u001b[0m\u001b[1;33m.\u001b[0m\u001b[0mdatetime\u001b[0m\u001b[1;33m.\u001b[0m\u001b[0mnow\u001b[0m\u001b[1;33m(\u001b[0m\u001b[1;33m)\u001b[0m \u001b[1;33m-\u001b[0m \u001b[0mstartTime\u001b[0m\u001b[1;33m\u001b[0m\u001b[0m\n\u001b[0m\u001b[0;32m     43\u001b[0m     \u001b[0mfitness\u001b[0m \u001b[1;33m=\u001b[0m \u001b[0mget_fitness\u001b[0m\u001b[1;33m(\u001b[0m\u001b[0mguess\u001b[0m\u001b[1;33m)\u001b[0m\u001b[1;33m\u001b[0m\u001b[0m\n\u001b[0;32m     44\u001b[0m     \u001b[0mprint\u001b[0m\u001b[1;33m(\u001b[0m\u001b[1;34m\"{0}\\t{1}\\t{2}\"\u001b[0m\u001b[1;33m.\u001b[0m\u001b[0mformat\u001b[0m\u001b[1;33m(\u001b[0m\u001b[0mguess\u001b[0m\u001b[1;33m,\u001b[0m \u001b[0mfitness\u001b[0m\u001b[1;33m,\u001b[0m \u001b[0mstr\u001b[0m\u001b[1;33m(\u001b[0m\u001b[0mtimeDiff\u001b[0m\u001b[1;33m)\u001b[0m\u001b[1;33m)\u001b[0m\u001b[1;33m)\u001b[0m\u001b[1;33m\u001b[0m\u001b[0m\n",
      "\u001b[1;31mNameError\u001b[0m: name 'startTime' is not defined"
     ]
    }
   ],
   "source": [
    "geneSet = \" abcdefghijklmnopqrstuvwxyzABCDEFGHIJKLMNOPQRSTUVWXYZ!.\"\n",
    "target = \"Hello World\"\n",
    "GA_password_cracking(geneSet, target)"
   ]
  },
  {
   "cell_type": "code",
   "execution_count": 14,
   "metadata": {
    "ExecuteTime": {
     "end_time": "2017-10-30T13:14:45.301736Z",
     "start_time": "2017-10-30T13:14:45.265535Z"
    }
   },
   "outputs": [
    {
     "name": "stdout",
     "output_type": "stream",
     "text": [
      "wUrGWaTYeh\t1\t0:02:00.423111\n",
      "Guess result, Num of same letters, Time diff\n",
      "wUrGvaTYeh\t2\t0:02:00.424320\n",
      "wUrGva Yeh\t3\t0:02:00.425802\n",
      "wUrGve Yeh\t4\t0:02:00.428763\n",
      "wULGve Yeh\t5\t0:02:00.429577\n",
      "wULove Yeh\t6\t0:02:00.431359\n",
      "w Love Yeh\t7\t0:02:00.433610\n",
      "I Love Yeh\t8\t0:02:00.436231\n",
      "I Love Yeu\t9\t0:02:00.443778\n",
      "I Love You\t10\t0:02:00.454150\n",
      "=======RESULT:===========\n",
      "I Love You\n"
     ]
    }
   ],
   "source": [
    "target = \"I Love You\"\n",
    "GA_password_cracking(geneSet, target)"
   ]
  },
  {
   "cell_type": "code",
   "execution_count": 16,
   "metadata": {
    "ExecuteTime": {
     "end_time": "2017-10-30T13:15:14.188414Z",
     "start_time": "2017-10-30T13:15:14.123952Z"
    }
   },
   "outputs": [
    {
     "name": "stdout",
     "output_type": "stream",
     "text": [
      "KIOeRtl.bHjJ!SvoCE\t1\t0:02:29.281584\n",
      "Guess result, Num of same letters, Time diff\n",
      "KIOeRel.bHjJ!SvoCE\t2\t0:02:29.281938\n",
      "KIOeRel.bHjJ!SvoCs\t3\t0:02:29.282171\n",
      "KIOeRel.bHjr!SvoCs\t4\t0:02:29.283671\n",
      "KIieRel.bHjr!SvoCs\t5\t0:02:29.284551\n",
      "KIieRe .bHjr!SvoCs\t6\t0:02:29.287570\n",
      "TIieRe .bHjr!SvoCs\t7\t0:02:29.288605\n",
      "TIieRe .bHjr!Svons\t8\t0:02:29.290347\n",
      "TIieRe .bHjr!tvons\t9\t0:02:29.292156\n",
      "TIieRe .bHjr!tions\t10\t0:02:29.293099\n",
      "TIieRe .bnjr!tions\t11\t0:02:29.293670\n",
      "TIieRe Gbnjr!tions\t12\t0:02:29.295439\n",
      "TIipRe Gbnjr!tions\t13\t0:02:29.296468\n",
      "TripRe Gbnjr!tions\t14\t0:02:29.298693\n",
      "TripRe Genjr!tions\t15\t0:02:29.300385\n",
      "TripRe Gener!tions\t16\t0:02:29.306236\n",
      "Triple Gener!tions\t17\t0:02:29.317549\n",
      "Triple Generations\t18\t0:02:29.335778\n",
      "=======RESULT:===========\n",
      "Triple Generations\n"
     ]
    }
   ],
   "source": [
    "target = \"Triple Generations\"\n",
    "GA_password_cracking(geneSet, target)"
   ]
  },
  {
   "cell_type": "code",
   "execution_count": null,
   "metadata": {
    "collapsed": true
   },
   "outputs": [],
   "source": []
  }
 ],
 "metadata": {
  "hide_input": false,
  "kernelspec": {
   "display_name": "Python 3",
   "language": "python",
   "name": "python3"
  },
  "language_info": {
   "codemirror_mode": {
    "name": "ipython",
    "version": 3
   },
   "file_extension": ".py",
   "mimetype": "text/x-python",
   "name": "python",
   "nbconvert_exporter": "python",
   "pygments_lexer": "ipython3",
   "version": "3.6.2"
  },
  "toc": {
   "nav_menu": {
    "height": "4px",
    "width": "253px"
   },
   "number_sections": true,
   "sideBar": true,
   "skip_h1_title": false,
   "toc_cell": false,
   "toc_position": {},
   "toc_section_display": "block",
   "toc_window_display": false
  },
  "varInspector": {
   "cols": {
    "lenName": 16,
    "lenType": 16,
    "lenVar": 40
   },
   "kernels_config": {
    "python": {
     "delete_cmd_postfix": "",
     "delete_cmd_prefix": "del ",
     "library": "var_list.py",
     "varRefreshCmd": "print(var_dic_list())"
    },
    "r": {
     "delete_cmd_postfix": ") ",
     "delete_cmd_prefix": "rm(",
     "library": "var_list.r",
     "varRefreshCmd": "cat(var_dic_list()) "
    }
   },
   "position": {
    "height": "177px",
    "left": "1335px",
    "right": "20px",
    "top": "143px",
    "width": "487px"
   },
   "types_to_exclude": [
    "module",
    "function",
    "builtin_function_or_method",
    "instance",
    "_Feature"
   ],
   "window_display": true
  }
 },
 "nbformat": 4,
 "nbformat_minor": 2
}
