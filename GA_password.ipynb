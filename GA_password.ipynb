{
 "cells": [
  {
   "cell_type": "code",
   "execution_count": 1,
   "metadata": {
    "ExecuteTime": {
     "end_time": "2017-10-30T13:00:35.332106Z",
     "start_time": "2017-10-30T13:00:33.801440Z"
    },
    "collapsed": true,
    "scrolled": true
   },
   "outputs": [],
   "source": [
    "# -*- coding: utf-8 -*-\n",
    "\"\"\"\n",
    "Created on Sat Oct 28 16:30:44 2017\n",
    "\n",
    "@author: Hoang Lam Le - Edit code from Code project\n",
    "\"\"\"\n",
    "from __future__ import division, print_function, unicode_literals\n",
    "import numpy as np \n",
    "import matplotlib.pyplot as plt\n",
    "import random\n",
    "import datetime\n",
    "\n",
    "#----------------Init first gene ----------------------------------------------\n",
    "#------------------------------------------------------------------------------\n",
    "def generate_parent(length):\n",
    "    genes = []\n",
    "    while len(genes) < length:\n",
    "        sampleSize = min(length - len(genes), len(geneSet))\n",
    "        genes.extend(random.sample(geneSet, sampleSize))\n",
    "    return ''.join(genes)\n",
    "\n",
    "#---------------Count number of similar character between guess and actual string----------------------\n",
    "#Fitness value is defined as the number of matching letters\n",
    "#----------------------------------------------------------------------------------------------------\n",
    "def get_fitness(guess):\n",
    "    return sum(1 for expected, actual in zip(target, guess) if expected == actual)\n",
    "#---------------------Generate new child from parent-------------------------------------------------\n",
    "#----------------------------------------------------------------------------- ---------------------- \n",
    "def mutate(parent):\n",
    "    index = random.randrange(0, len(parent))\n",
    "    childGenes = list(parent)\n",
    "    newGene, alternate = random.sample(geneSet, 2) #2 means assign 2 letter to two variables\n",
    "    #print(\"This is new gene\", newGene)\n",
    "    #print(\"This is alternate\", alternate)\n",
    "    childGenes[index] = alternate if newGene == childGenes[index] else newGene\n",
    "    #dau forward slash nay nghia la gi vay\n",
    "    return ''.join(childGenes)# convert from seperated letter into one string\n",
    "\n",
    "#---------------Show on screen the time running for each iteration of generating a new child----------------------\n",
    "#-----------------------------------------------------------------------------------------------------------------\n",
    "def display(guess):\n",
    "    timeDiff = datetime.datetime.now() - startTime\n",
    "    fitness = get_fitness(guess)\n",
    "    print(\"{0}\\t{1}\\t{2}\".format(guess, fitness, str(timeDiff)))\n",
    "\n"
   ]
  },
  {
   "cell_type": "code",
   "execution_count": 12,
   "metadata": {
    "ExecuteTime": {
     "end_time": "2017-10-30T13:14:27.908438Z",
     "start_time": "2017-10-30T13:14:27.882590Z"
    }
   },
   "outputs": [],
   "source": [
    "def GA_password_cracking(geneSet, target):\n",
    "    #----------------declare variables---------------------------------------------\n",
    "    #------------------------------------------------------------------------------\n",
    "#     geneSet = \" abcdefghijklmnopqrstuvwxyzABCDEFGHIJKLMNOPQRSTUVWXYZ!.\"\n",
    "#     target = \"Hello World\"\n",
    "    #---------------Main function ----------------------\n",
    "    #-----------------------------------------------------------------------------------------------------------\n",
    "    random.seed()\n",
    "    startTime = datetime.datetime.now()\n",
    "    bestParent = generate_parent(len(target)) #redom string\n",
    "    bestFitness = get_fitness(bestParent) # HOW many letters currently are similar between guess and target\n",
    "    #print(\"This is bestParent\", bestParent)\n",
    "    #print(\"This is bestFitness\", bestFitness)\n",
    "    display(bestParent)\n",
    "    count = 0\n",
    "    print(\"Guess result, Num of same letters, Time diff\")\n",
    "    while True:\n",
    "        child = mutate(bestParent) # evolved string by replacing a letter\n",
    "        #Which line of code that guarantees a replacement does not happen at the correct position?\n",
    "    #     print(\"{0}\\t{1}\".format(child, bestParent))\n",
    "        childFitness = get_fitness(child)\n",
    "\n",
    "        if bestFitness >= childFitness:#only accept child which has more number of similar letters\n",
    "    #         print(\"{0}\\t{1}\".format(bestFitness, childFitness))\n",
    "            count +=1\n",
    "            continue\n",
    "            #childfitness (numberof similar letter) is the number of similar letter later\n",
    "            #the latter, the better. If not, continue to generate new child, until the number of\n",
    "            #of similar letter is greater than it was\n",
    "        display(child)\n",
    "        if childFitness >= len(bestParent): #end of loop\n",
    "            print(\"=======RESULT:===========\")\n",
    "            print(child)\n",
    "            break\n",
    "        bestFitness = childFitness\n",
    "        bestParent = child\n",
    "    #     print (\"Count: \", count) # number of gerneralized child for an iteration. In data a-zA-Z, count sometimes >500 (debug data: unfortanute case)\n",
    "        #in some lucky curcumstance: count is 5 or 10 (rare)\n",
    "        count = 0\n",
    "\n",
    "    #For each evolution, child may repeat the same result, that is why we need this condition if bestFitness >= childFitness.\n",
    "    #From debug result, child may similar to previous child, some iteration need 5000 mutation to generate a new suitable child\n",
    "    #This algorithm need to impoved at the step of child generation.\n",
    "    #if generate set is too big, 1000 letters, it will consume much time"
   ]
  },
  {
   "cell_type": "code",
   "execution_count": 13,
   "metadata": {
    "ExecuteTime": {
     "end_time": "2017-10-30T13:14:29.810823Z",
     "start_time": "2017-10-30T13:14:29.789584Z"
    }
   },
   "outputs": [
    {
     "name": "stdout",
     "output_type": "stream",
     "text": [
      "FOIz.EwheBq\t0\t0:01:44.948412\n",
      "Guess result, Num of same letters, Time diff\n",
      "FOIl.EwheBq\t1\t0:01:44.950548\n",
      "FeIl.EwheBq\t2\t0:01:44.950961\n",
      "FeIl.EwhrBq\t3\t0:01:44.951350\n",
      "Fell.EwhrBq\t4\t0:01:44.952836\n",
      "Fell.EworBq\t5\t0:01:44.955218\n",
      "Fell.EworBd\t6\t0:01:44.957052\n",
      "Hell.EworBd\t7\t0:01:44.957386\n",
      "HelloEworBd\t8\t0:01:44.957620\n",
      "HelloEworld\t9\t0:01:44.958675\n",
      "Hello world\t10\t0:01:44.959336\n",
      "Hello World\t11\t0:01:44.961373\n",
      "=======RESULT:===========\n",
      "Hello World\n"
     ]
    }
   ],
   "source": [
    "geneSet = \" abcdefghijklmnopqrstuvwxyzABCDEFGHIJKLMNOPQRSTUVWXYZ!.\"\n",
    "target = \"Hello World\"\n",
    "GA_password_cracking(geneSet, target)"
   ]
  },
  {
   "cell_type": "code",
   "execution_count": 14,
   "metadata": {
    "ExecuteTime": {
     "end_time": "2017-10-30T13:14:45.301736Z",
     "start_time": "2017-10-30T13:14:45.265535Z"
    }
   },
   "outputs": [
    {
     "name": "stdout",
     "output_type": "stream",
     "text": [
      "wUrGWaTYeh\t1\t0:02:00.423111\n",
      "Guess result, Num of same letters, Time diff\n",
      "wUrGvaTYeh\t2\t0:02:00.424320\n",
      "wUrGva Yeh\t3\t0:02:00.425802\n",
      "wUrGve Yeh\t4\t0:02:00.428763\n",
      "wULGve Yeh\t5\t0:02:00.429577\n",
      "wULove Yeh\t6\t0:02:00.431359\n",
      "w Love Yeh\t7\t0:02:00.433610\n",
      "I Love Yeh\t8\t0:02:00.436231\n",
      "I Love Yeu\t9\t0:02:00.443778\n",
      "I Love You\t10\t0:02:00.454150\n",
      "=======RESULT:===========\n",
      "I Love You\n"
     ]
    }
   ],
   "source": [
    "target = \"I Love You\"\n",
    "GA_password_cracking(geneSet, target)"
   ]
  },
  {
   "cell_type": "code",
   "execution_count": 16,
   "metadata": {
    "ExecuteTime": {
     "end_time": "2017-10-30T13:15:14.188414Z",
     "start_time": "2017-10-30T13:15:14.123952Z"
    }
   },
   "outputs": [
    {
     "name": "stdout",
     "output_type": "stream",
     "text": [
      "KIOeRtl.bHjJ!SvoCE\t1\t0:02:29.281584\n",
      "Guess result, Num of same letters, Time diff\n",
      "KIOeRel.bHjJ!SvoCE\t2\t0:02:29.281938\n",
      "KIOeRel.bHjJ!SvoCs\t3\t0:02:29.282171\n",
      "KIOeRel.bHjr!SvoCs\t4\t0:02:29.283671\n",
      "KIieRel.bHjr!SvoCs\t5\t0:02:29.284551\n",
      "KIieRe .bHjr!SvoCs\t6\t0:02:29.287570\n",
      "TIieRe .bHjr!SvoCs\t7\t0:02:29.288605\n",
      "TIieRe .bHjr!Svons\t8\t0:02:29.290347\n",
      "TIieRe .bHjr!tvons\t9\t0:02:29.292156\n",
      "TIieRe .bHjr!tions\t10\t0:02:29.293099\n",
      "TIieRe .bnjr!tions\t11\t0:02:29.293670\n",
      "TIieRe Gbnjr!tions\t12\t0:02:29.295439\n",
      "TIipRe Gbnjr!tions\t13\t0:02:29.296468\n",
      "TripRe Gbnjr!tions\t14\t0:02:29.298693\n",
      "TripRe Genjr!tions\t15\t0:02:29.300385\n",
      "TripRe Gener!tions\t16\t0:02:29.306236\n",
      "Triple Gener!tions\t17\t0:02:29.317549\n",
      "Triple Generations\t18\t0:02:29.335778\n",
      "=======RESULT:===========\n",
      "Triple Generations\n"
     ]
    }
   ],
   "source": [
    "target = \"Triple Generations\"\n",
    "GA_password_cracking(geneSet, target)"
   ]
  },
  {
   "cell_type": "code",
   "execution_count": null,
   "metadata": {
    "collapsed": true
   },
   "outputs": [],
   "source": []
  }
 ],
 "metadata": {
  "hide_input": false,
  "kernelspec": {
   "display_name": "Python [default]",
   "language": "python",
   "name": "python3"
  },
  "language_info": {
   "codemirror_mode": {
    "name": "ipython",
    "version": 3
   },
   "file_extension": ".py",
   "mimetype": "text/x-python",
   "name": "python",
   "nbconvert_exporter": "python",
   "pygments_lexer": "ipython3",
   "version": "3.5.2"
  },
  "toc": {
   "colors": {
    "hover_highlight": "#DAA520",
    "running_highlight": "#FF0000",
    "selected_highlight": "#FFD700"
   },
   "moveMenuLeft": true,
   "nav_menu": {
    "height": "4px",
    "width": "253px"
   },
   "navigate_menu": true,
   "number_sections": true,
   "sideBar": true,
   "threshold": 4,
   "toc_cell": false,
   "toc_section_display": "block",
   "toc_window_display": true,
   "widenNotebook": false
  },
  "varInspector": {
   "cols": {
    "lenName": 16,
    "lenType": 16,
    "lenVar": 40
   },
   "kernels_config": {
    "python": {
     "delete_cmd_postfix": "",
     "delete_cmd_prefix": "del ",
     "library": "var_list.py",
     "varRefreshCmd": "print(var_dic_list())"
    },
    "r": {
     "delete_cmd_postfix": ") ",
     "delete_cmd_prefix": "rm(",
     "library": "var_list.r",
     "varRefreshCmd": "cat(var_dic_list()) "
    }
   },
   "types_to_exclude": [
    "module",
    "function",
    "builtin_function_or_method",
    "instance",
    "_Feature"
   ],
   "window_display": false
  }
 },
 "nbformat": 4,
 "nbformat_minor": 2
}
