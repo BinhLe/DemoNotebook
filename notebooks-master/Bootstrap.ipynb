{
 "cells": [
  {
   "cell_type": "code",
   "execution_count": 1,
   "metadata": {
    "ExecuteTime": {
     "end_time": "2017-09-20T23:13:54.914647Z",
     "start_time": "2017-09-20T23:13:53.747575Z"
    }
   },
   "outputs": [],
   "source": [
    "%matplotlib inline\n",
    "import numpy as np\n",
    "import pandas as pd\n",
    "import matplotlib.pyplot as plt\n",
    "from joblib.parallel import Parallel, delayed"
   ]
  },
  {
   "cell_type": "code",
   "execution_count": 2,
   "metadata": {
    "ExecuteTime": {
     "end_time": "2017-09-20T23:13:56.075086Z",
     "start_time": "2017-09-20T23:13:56.063692Z"
    }
   },
   "outputs": [],
   "source": [
    "def bootstrap(data, agg=np.mean, n_bootstraps=10000, seed=None, ci_width=0.95):\n",
    "    data = np.asarray(data)\n",
    "    rng = np.random.RandomState(seed)\n",
    "    n_samples = len(data)\n",
    "    all_aggs = []\n",
    "    for i in range(n_bootstraps):\n",
    "        idx = rng.random_integers(low=0, high=n_samples - 1, size=n_samples)\n",
    "        all_aggs.append(agg(data[idx]))\n",
    "    boostrapped = np.asarray(all_aggs)\n",
    "    boostrapped.sort()\n",
    "    \n",
    "    ci_min = (1 - ci_width) / 2.\n",
    "    ci_max = 1. - ci_min\n",
    "    ci = boostrapped[int(ci_min * n_bootstraps)], boostrapped[int(ci_max * n_bootstraps)]\n",
    "    return boostrapped, ci"
   ]
  },
  {
   "cell_type": "code",
   "execution_count": 3,
   "metadata": {
    "ExecuteTime": {
     "end_time": "2017-09-20T23:14:01.728777Z",
     "start_time": "2017-09-20T23:14:01.382903Z"
    }
   },
   "outputs": [
    {
     "data": {
      "image/png": "[encoded data removed]",
      "text/plain": [
       "<matplotlib.figure.Figure at 0x116263e48>"
      ]
     },
     "metadata": {},
     "output_type": "display_data"
    }
   ],
   "source": [
    "bins = np.linspace(0, 1, 30)\n",
    "data = np.random.uniform(0, 1, size=10)\n",
    "_ = plt.hist(data, bins=bins, alpha=0.5)"
   ]
  },
  {
   "cell_type": "code",
   "execution_count": 4,
   "metadata": {
    "ExecuteTime": {
     "end_time": "2017-09-20T23:14:08.319760Z",
     "start_time": "2017-09-20T23:14:08.312307Z"
    }
   },
   "outputs": [
    {
     "data": {
      "text/plain": [
       "0.56562987792949193"
      ]
     },
     "execution_count": 4,
     "metadata": {},
     "output_type": "execute_result"
    }
   ],
   "source": [
    "data.mean()"
   ]
  },
  {
   "cell_type": "code",
   "execution_count": 5,
   "metadata": {
    "ExecuteTime": {
     "end_time": "2017-09-20T23:14:12.561136Z",
     "start_time": "2017-09-20T23:14:12.110612Z"
    }
   },
   "outputs": [
    {
     "name": "stderr",
     "output_type": "stream",
     "text": [
      "/Users/thanhbinhle/anaconda/lib/python3.5/site-packages/ipykernel/__main__.py:7: DeprecationWarning: This function is deprecated. Please call randint(0, 9 + 1) instead\n"
     ]
    },
    {
     "data": {
      "text/plain": [
       "(0.38620096068807508, 0.76669642886593503)"
      ]
     },
     "execution_count": 5,
     "metadata": {},
     "output_type": "execute_result"
    },
    {
     "data": {
      "image/png": "[encoded data removed]",
      "text/plain": [
       "<matplotlib.figure.Figure at 0x119755630>"
      ]
     },
     "metadata": {},
     "output_type": "display_data"
    }
   ],
   "source": [
    "bootstrapped, ci = bootstrap(data, ci_width=0.99)\n",
    "_ = plt.hist(bootstrapped, bins=bins, alpha=0.5)\n",
    "ci"
   ]
  },
  {
   "cell_type": "code",
   "execution_count": 6,
   "metadata": {
    "ExecuteTime": {
     "end_time": "2017-09-20T23:15:09.272426Z",
     "start_time": "2017-09-20T23:15:09.268796Z"
    }
   },
   "outputs": [],
   "source": [
    "def unbiased_std(x):\n",
    "    return np.std(x, ddof=1)"
   ]
  },
  {
   "cell_type": "code",
   "execution_count": 7,
   "metadata": {
    "ExecuteTime": {
     "end_time": "2017-09-20T23:15:30.092091Z",
     "start_time": "2017-09-20T23:15:29.384680Z"
    }
   },
   "outputs": [
    {
     "name": "stderr",
     "output_type": "stream",
     "text": [
      "/Users/thanhbinhle/anaconda/lib/python3.5/site-packages/ipykernel/__main__.py:7: DeprecationWarning: This function is deprecated. Please call randint(0, 9 + 1) instead\n"
     ]
    },
    {
     "data": {
      "text/plain": [
       "(0.10312460806243789, 0.31748546048767617)"
      ]
     },
     "execution_count": 7,
     "metadata": {},
     "output_type": "execute_result"
    },
    {
     "data": {
      "image/png": "[encoded data removed]",
      "text/plain": [
       "<matplotlib.figure.Figure at 0x1198d1080>"
      ]
     },
     "metadata": {},
     "output_type": "display_data"
    }
   ],
   "source": [
    "bootstrapped, ci = bootstrap(data, agg=unbiased_std, ci_width=0.99)\n",
    "_ = plt.hist(bootstrapped, bins=bins, alpha=0.5)\n",
    "plt.title(\"Bootstrap distribution for the std dev of a uniform variable\")\n",
    "ci"
   ]
  },
  {
   "cell_type": "markdown",
   "metadata": {},
   "source": [
    "## Evaluation of the correctness of the bootstrap CI for the mean of a uniform variable"
   ]
  },
  {
   "cell_type": "code",
   "execution_count": 8,
   "metadata": {
    "ExecuteTime": {
     "end_time": "2017-09-20T23:16:33.908433Z",
     "start_time": "2017-09-20T23:15:34.501448Z"
    }
   },
   "outputs": [
    {
     "name": "stderr",
     "output_type": "stream",
     "text": [
      "/Users/thanhbinhle/anaconda/lib/python3.5/site-packages/ipykernel/__main__.py:7: DeprecationWarning: This function is deprecated. Please call randint(0, 4 + 1) instead\n",
      "/Users/thanhbinhle/anaconda/lib/python3.5/site-packages/ipykernel/__main__.py:7: DeprecationWarning: This function is deprecated. Please call randint(0, 9 + 1) instead\n",
      "/Users/thanhbinhle/anaconda/lib/python3.5/site-packages/ipykernel/__main__.py:7: DeprecationWarning: This function is deprecated. Please call randint(0, 2 + 1) instead\n",
      "/Users/thanhbinhle/anaconda/lib/python3.5/site-packages/ipykernel/__main__.py:7: DeprecationWarning: This function is deprecated. Please call randint(0, 19 + 1) instead\n",
      "/Users/thanhbinhle/anaconda/lib/python3.5/site-packages/ipykernel/__main__.py:7: DeprecationWarning: This function is deprecated. Please call randint(0, 99 + 1) instead\n",
      "/Users/thanhbinhle/anaconda/lib/python3.5/site-packages/ipykernel/__main__.py:7: DeprecationWarning: This function is deprecated. Please call randint(0, 99 + 1) instead\n",
      "/Users/thanhbinhle/anaconda/lib/python3.5/site-packages/ipykernel/__main__.py:7: DeprecationWarning: This function is deprecated. Please call randint(0, 99 + 1) instead\n",
      "/Users/thanhbinhle/anaconda/lib/python3.5/site-packages/ipykernel/__main__.py:7: DeprecationWarning: This function is deprecated. Please call randint(0, 99 + 1) instead\n",
      "/Users/thanhbinhle/anaconda/lib/python3.5/site-packages/ipykernel/__main__.py:7: DeprecationWarning: This function is deprecated. Please call randint(0, 29 + 1) instead\n",
      "/Users/thanhbinhle/anaconda/lib/python3.5/site-packages/ipykernel/__main__.py:7: DeprecationWarning: This function is deprecated. Please call randint(0, 39 + 1) instead\n",
      "/Users/thanhbinhle/anaconda/lib/python3.5/site-packages/ipykernel/__main__.py:7: DeprecationWarning: This function is deprecated. Please call randint(0, 49 + 1) instead\n",
      "/Users/thanhbinhle/anaconda/lib/python3.5/site-packages/ipykernel/__main__.py:7: DeprecationWarning: This function is deprecated. Please call randint(0, 59 + 1) instead\n",
      "/Users/thanhbinhle/anaconda/lib/python3.5/site-packages/ipykernel/__main__.py:7: DeprecationWarning: This function is deprecated. Please call randint(0, 69 + 1) instead\n",
      "/Users/thanhbinhle/anaconda/lib/python3.5/site-packages/ipykernel/__main__.py:7: DeprecationWarning: This function is deprecated. Please call randint(0, 79 + 1) instead\n",
      "/Users/thanhbinhle/anaconda/lib/python3.5/site-packages/ipykernel/__main__.py:7: DeprecationWarning: This function is deprecated. Please call randint(0, 89 + 1) instead\n"
     ]
    },
    {
     "name": "stdout",
     "output_type": "stream",
     "text": [
      "CPU times: user 121 ms, sys: 46.7 ms, total: 168 ms\n",
      "Wall time: 59.4 s\n"
     ]
    }
   ],
   "source": [
    "%%time\n",
    "\n",
    "target_ci_width = 0.95\n",
    "\n",
    "\n",
    "def compute_ci_correctness(n_samples, true_value, agg=np.mean, target_ci_width=0.95,\n",
    "                           n_runs = 100):\n",
    "    correctness = []\n",
    "    for i in range(n_runs):\n",
    "        data = np.random.uniform(0, 1, size=n_samples)\n",
    "        _, ci = bootstrap(data, agg=agg, ci_width=target_ci_width,\n",
    "                          n_bootstraps=5000)\n",
    "        correctness.append(float(ci[0] <= true_value <= ci[1]))\n",
    "        \n",
    "    # Look Ma': boostrap CI on the boostrap CI correctness\n",
    "    _, ci_outcomes = bootstrap(correctness, ci_width=0.99,\n",
    "                               n_bootstraps=10000)\n",
    "    return {\n",
    "        'n_samples': n_samples,\n",
    "        'correctness': np.mean(correctness),\n",
    "        'ci_0025_correct': ci_outcomes[0],\n",
    "        'ci_0975_correct': ci_outcomes[1],\n",
    "    }\n",
    "    \n",
    "\n",
    "all_outcomes = Parallel(n_jobs=-1)(delayed(compute_ci_correctness)(\n",
    "    n_samples, 0.5, agg=np.mean, target_ci_width=target_ci_width)\n",
    "    for n_samples in [3, 5, 10, 20, 30, 40, 50, 60, 70, 80, 90, 100])\n",
    "    \n",
    "all_outcomes = pd.DataFrame(all_outcomes)"
   ]
  },
  {
   "cell_type": "code",
   "execution_count": null,
   "metadata": {
    "ExecuteTime": {
     "start_time": "2017-09-20T23:17:42.354Z"
    }
   },
   "outputs": [
    {
     "data": {
      "text/html": [
       "<div>\n",
       "<style>\n",
       "    .dataframe thead tr:only-child th {\n",
       "        text-align: right;\n",
       "    }\n",
       "\n",
       "    .dataframe thead th {\n",
       "        text-align: left;\n",
       "    }\n",
       "\n",
       "    .dataframe tbody tr th {\n",
       "        vertical-align: top;\n",
       "    }\n",
       "</style>\n",
       "<table border=\"1\" class=\"dataframe\">\n",
       "  <thead>\n",
       "    <tr style=\"text-align: right;\">\n",
       "      <th></th>\n",
       "      <th>ci_0025_correct</th>\n",
       "      <th>ci_0975_correct</th>\n",
       "      <th>correctness</th>\n",
       "      <th>n_samples</th>\n",
       "    </tr>\n",
       "  </thead>\n",
       "  <tbody>\n",
       "    <tr>\n",
       "      <th>0</th>\n",
       "      <td>0.59</td>\n",
       "      <td>0.82</td>\n",
       "      <td>0.71</td>\n",
       "      <td>3</td>\n",
       "    </tr>\n",
       "    <tr>\n",
       "      <th>1</th>\n",
       "      <td>0.81</td>\n",
       "      <td>0.97</td>\n",
       "      <td>0.90</td>\n",
       "      <td>5</td>\n",
       "    </tr>\n",
       "    <tr>\n",
       "      <th>2</th>\n",
       "      <td>0.83</td>\n",
       "      <td>0.97</td>\n",
       "      <td>0.91</td>\n",
       "      <td>10</td>\n",
       "    </tr>\n",
       "    <tr>\n",
       "      <th>3</th>\n",
       "      <td>0.84</td>\n",
       "      <td>0.98</td>\n",
       "      <td>0.92</td>\n",
       "      <td>20</td>\n",
       "    </tr>\n",
       "    <tr>\n",
       "      <th>4</th>\n",
       "      <td>0.83</td>\n",
       "      <td>0.98</td>\n",
       "      <td>0.91</td>\n",
       "      <td>30</td>\n",
       "    </tr>\n",
       "    <tr>\n",
       "      <th>5</th>\n",
       "      <td>0.79</td>\n",
       "      <td>0.96</td>\n",
       "      <td>0.88</td>\n",
       "      <td>40</td>\n",
       "    </tr>\n",
       "    <tr>\n",
       "      <th>6</th>\n",
       "      <td>0.86</td>\n",
       "      <td>0.99</td>\n",
       "      <td>0.93</td>\n",
       "      <td>50</td>\n",
       "    </tr>\n",
       "    <tr>\n",
       "      <th>7</th>\n",
       "      <td>0.85</td>\n",
       "      <td>0.99</td>\n",
       "      <td>0.93</td>\n",
       "      <td>60</td>\n",
       "    </tr>\n",
       "    <tr>\n",
       "      <th>8</th>\n",
       "      <td>0.82</td>\n",
       "      <td>0.97</td>\n",
       "      <td>0.90</td>\n",
       "      <td>70</td>\n",
       "    </tr>\n",
       "    <tr>\n",
       "      <th>9</th>\n",
       "      <td>0.89</td>\n",
       "      <td>1.00</td>\n",
       "      <td>0.95</td>\n",
       "      <td>80</td>\n",
       "    </tr>\n",
       "    <tr>\n",
       "      <th>10</th>\n",
       "      <td>0.89</td>\n",
       "      <td>1.00</td>\n",
       "      <td>0.95</td>\n",
       "      <td>90</td>\n",
       "    </tr>\n",
       "    <tr>\n",
       "      <th>11</th>\n",
       "      <td>0.87</td>\n",
       "      <td>0.99</td>\n",
       "      <td>0.94</td>\n",
       "      <td>100</td>\n",
       "    </tr>\n",
       "  </tbody>\n",
       "</table>\n",
       "</div>"
      ],
      "text/plain": [
       "    ci_0025_correct  ci_0975_correct  correctness  n_samples\n",
       "0              0.59             0.82         0.71          3\n",
       "1              0.81             0.97         0.90          5\n",
       "2              0.83             0.97         0.91         10\n",
       "3              0.84             0.98         0.92         20\n",
       "4              0.83             0.98         0.91         30\n",
       "5              0.79             0.96         0.88         40\n",
       "6              0.86             0.99         0.93         50\n",
       "7              0.85             0.99         0.93         60\n",
       "8              0.82             0.97         0.90         70\n",
       "9              0.89             1.00         0.95         80\n",
       "10             0.89             1.00         0.95         90\n",
       "11             0.87             0.99         0.94        100"
      ]
     },
     "execution_count": 10,
     "metadata": {},
     "output_type": "execute_result"
    }
   ],
   "source": [
    "def plot_outcomes(all_outcomes, target_ci_width):\n",
    "    plt.fill_between(all_outcomes.n_samples.values,\n",
    "                     all_outcomes.ci_0025_correct.values,\n",
    "                     all_outcomes.ci_0975_correct.values,\n",
    "                     alpha=0.2, color='b')\n",
    "    plt.plot(all_outcomes.n_samples, all_outcomes.correctness, 'o-',\n",
    "             alpha=0.8, color='b')\n",
    "    \n",
    "    plt.hlines(target_ci_width,\n",
    "               all_outcomes.n_samples.min(), all_outcomes.n_samples.max(),\n",
    "               linestyles='dotted')\n",
    "    plt.ylim(0.5, 1)\n",
    "    plt.title(\"Correctness of the bootstrap CI interval\")\n",
    "    plt.xlabel(\"Number of source samples\")\n",
    "    plt.ylabel(\"Rate of true value belonging to the CI interval\")\n",
    "    \n",
    "plot_outcomes(all_outcomes, target_ci_width)\n",
    "all_outcomes"
   ]
  },
  {
   "cell_type": "markdown",
   "metadata": {},
   "source": [
    "## Evaluation of the correctness of the bootstrap CI for the std deviation of a uniform variable"
   ]
  },
  {
   "cell_type": "code",
   "execution_count": 19,
   "metadata": {},
   "outputs": [],
   "source": [
    "all_outcomes = Parallel(n_jobs=-1)(delayed(compute_ci_correctness)(\n",
    "    n_samples, 1 / np.sqrt(12), target_ci_width=target_ci_width, agg=unbiased_std)\n",
    "    for n_samples in [3, 5, 10, 20, 30, 40, 50, 60, 70, 80, 90, 100])\n",
    "    \n",
    "all_outcomes = pd.DataFrame(all_outcomes)"
   ]
  },
  {
   "cell_type": "code",
   "execution_count": 20,
   "metadata": {},
   "outputs": [
    {
     "data": {
      "text/html": [
       "<div style=\"max-height:1000px;max-width:1500px;overflow:auto;\">\n",
       "<table border=\"1\" class=\"dataframe\">\n",
       "  <thead>\n",
       "    <tr style=\"text-align: right;\">\n",
       "      <th></th>\n",
       "      <th>ci_0025_correct</th>\n",
       "      <th>ci_0975_correct</th>\n",
       "      <th>correctness</th>\n",
       "      <th>n_samples</th>\n",
       "    </tr>\n",
       "  </thead>\n",
       "  <tbody>\n",
       "    <tr>\n",
       "      <th>0 </th>\n",
       "      <td> 0.24</td>\n",
       "      <td> 0.49</td>\n",
       "      <td> 0.36</td>\n",
       "      <td>   3</td>\n",
       "    </tr>\n",
       "    <tr>\n",
       "      <th>1 </th>\n",
       "      <td> 0.50</td>\n",
       "      <td> 0.75</td>\n",
       "      <td> 0.63</td>\n",
       "      <td>   5</td>\n",
       "    </tr>\n",
       "    <tr>\n",
       "      <th>2 </th>\n",
       "      <td> 0.80</td>\n",
       "      <td> 0.96</td>\n",
       "      <td> 0.89</td>\n",
       "      <td>  10</td>\n",
       "    </tr>\n",
       "    <tr>\n",
       "      <th>3 </th>\n",
       "      <td> 0.82</td>\n",
       "      <td> 0.97</td>\n",
       "      <td> 0.90</td>\n",
       "      <td>  20</td>\n",
       "    </tr>\n",
       "    <tr>\n",
       "      <th>4 </th>\n",
       "      <td> 0.84</td>\n",
       "      <td> 0.98</td>\n",
       "      <td> 0.92</td>\n",
       "      <td>  30</td>\n",
       "    </tr>\n",
       "    <tr>\n",
       "      <th>5 </th>\n",
       "      <td> 0.87</td>\n",
       "      <td> 0.99</td>\n",
       "      <td> 0.94</td>\n",
       "      <td>  40</td>\n",
       "    </tr>\n",
       "    <tr>\n",
       "      <th>6 </th>\n",
       "      <td> 0.87</td>\n",
       "      <td> 0.99</td>\n",
       "      <td> 0.94</td>\n",
       "      <td>  50</td>\n",
       "    </tr>\n",
       "    <tr>\n",
       "      <th>7 </th>\n",
       "      <td> 0.83</td>\n",
       "      <td> 0.97</td>\n",
       "      <td> 0.91</td>\n",
       "      <td>  60</td>\n",
       "    </tr>\n",
       "    <tr>\n",
       "      <th>8 </th>\n",
       "      <td> 0.89</td>\n",
       "      <td> 1.00</td>\n",
       "      <td> 0.95</td>\n",
       "      <td>  70</td>\n",
       "    </tr>\n",
       "    <tr>\n",
       "      <th>9 </th>\n",
       "      <td> 0.92</td>\n",
       "      <td> 1.00</td>\n",
       "      <td> 0.97</td>\n",
       "      <td>  80</td>\n",
       "    </tr>\n",
       "    <tr>\n",
       "      <th>10</th>\n",
       "      <td> 0.85</td>\n",
       "      <td> 0.99</td>\n",
       "      <td> 0.93</td>\n",
       "      <td>  90</td>\n",
       "    </tr>\n",
       "    <tr>\n",
       "      <th>11</th>\n",
       "      <td> 0.92</td>\n",
       "      <td> 1.00</td>\n",
       "      <td> 0.97</td>\n",
       "      <td> 100</td>\n",
       "    </tr>\n",
       "  </tbody>\n",
       "</table>\n",
       "</div>"
      ],
      "text/plain": [
       "    ci_0025_correct  ci_0975_correct  correctness  n_samples\n",
       "0              0.24             0.49         0.36          3\n",
       "1              0.50             0.75         0.63          5\n",
       "2              0.80             0.96         0.89         10\n",
       "3              0.82             0.97         0.90         20\n",
       "4              0.84             0.98         0.92         30\n",
       "5              0.87             0.99         0.94         40\n",
       "6              0.87             0.99         0.94         50\n",
       "7              0.83             0.97         0.91         60\n",
       "8              0.89             1.00         0.95         70\n",
       "9              0.92             1.00         0.97         80\n",
       "10             0.85             0.99         0.93         90\n",
       "11             0.92             1.00         0.97        100"
      ]
     },
     "execution_count": 20,
     "metadata": {},
     "output_type": "execute_result"
    },
    {
     "data": {
      "image/png": "[encoded data removed]",
      "text/plain": [
       "<matplotlib.figure.Figure at 0x3791990>"
      ]
     },
     "metadata": {},
     "output_type": "display_data"
    }
   ],
   "source": [
    "plot_outcomes(all_outcomes, target_ci_width)\n",
    "all_outcomes"
   ]
  }
 ],
 "metadata": {
  "hide_input": false,
  "kernelspec": {
   "display_name": "Python [default]",
   "language": "python",
   "name": "python3"
  },
  "language_info": {
   "codemirror_mode": {
    "name": "ipython",
    "version": 3
   },
   "file_extension": ".py",
   "mimetype": "text/x-python",
   "name": "python",
   "nbconvert_exporter": "python",
   "pygments_lexer": "ipython3",
   "version": "3.5.3"
  },
  "toc": {
   "colors": {
    "hover_highlight": "#DAA520",
    "running_highlight": "#FF0000",
    "selected_highlight": "#FFD700"
   },
   "moveMenuLeft": true,
   "nav_menu": {
    "height": "60px",
    "width": "253px"
   },
   "navigate_menu": true,
   "number_sections": true,
   "sideBar": true,
   "threshold": 4,
   "toc_cell": false,
   "toc_section_display": "none",
   "toc_window_display": false,
   "widenNotebook": false
  },
  "varInspector": {
   "cols": {
    "lenName": 16,
    "lenType": 16,
    "lenVar": 40
   },
   "kernels_config": {
    "python": {
     "delete_cmd_postfix": "",
     "delete_cmd_prefix": "del ",
     "library": "var_list.py",
     "varRefreshCmd": "print(var_dic_list())"
    },
    "r": {
     "delete_cmd_postfix": ") ",
     "delete_cmd_prefix": "rm(",
     "library": "var_list.r",
     "varRefreshCmd": "cat(var_dic_list()) "
    }
   },
   "types_to_exclude": [
    "module",
    "function",
    "builtin_function_or_method",
    "instance",
    "_Feature"
   ],
   "window_display": false
  }
 },
 "nbformat": 4,
 "nbformat_minor": 1
}
